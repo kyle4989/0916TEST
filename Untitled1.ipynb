{
  "nbformat": 4,
  "nbformat_minor": 0,
  "metadata": {
    "colab": {
      "name": "Untitled1.ipynb",
      "provenance": [],
      "authorship_tag": "ABX9TyMPoBmF0yVrCaqAqRdOH+Ir",
      "include_colab_link": true
    },
    "kernelspec": {
      "name": "python3",
      "display_name": "Python 3"
    },
    "language_info": {
      "name": "python"
    }
  },
  "cells": [
    {
      "cell_type": "markdown",
      "metadata": {
        "id": "view-in-github",
        "colab_type": "text"
      },
      "source": [
        "<a href=\"https://colab.research.google.com/github/kyle4989/0916TEST/blob/main/Untitled1.ipynb\" target=\"_parent\"><img src=\"https://colab.research.google.com/assets/colab-badge.svg\" alt=\"Open In Colab\"/></a>"
      ]
    },
    {
      "cell_type": "code",
      "metadata": {
        "id": "Vyahw3xd9HaD"
      },
      "source": [
        "import numpy as np"
      ],
      "execution_count": 2,
      "outputs": []
    },
    {
      "cell_type": "code",
      "metadata": {
        "colab": {
          "base_uri": "https://localhost:8080/"
        },
        "id": "N2tauCx7_Q9_",
        "outputId": "74695807-45dc-493d-d4b0-4efdffc4e316"
      },
      "source": [
        "A = np.array([[0,1,-2.3,0.1], [1.3, 4, -0.1, 0], [4.1, -1.0, 0,\n",
        " 1.7]])\n",
        "A.shape"
      ],
      "execution_count": 4,
      "outputs": [
        {
          "output_type": "execute_result",
          "data": {
            "text/plain": [
              "(3, 4)"
            ]
          },
          "metadata": {},
          "execution_count": 4
        }
      ]
    },
    {
      "cell_type": "code",
      "metadata": {
        "colab": {
          "base_uri": "https://localhost:8080/"
        },
        "id": "iCBLAwis_aIT",
        "outputId": "602a50ed-1c92-44ef-d6a5-ef5405ad61f8"
      },
      "source": [
        "m,n = A.shape\n",
        "print('# of rows:', m)\n",
        "print('# of coloumns:', n)"
      ],
      "execution_count": 7,
      "outputs": [
        {
          "output_type": "stream",
          "name": "stdout",
          "text": [
            "# of rows: 3\n",
            "# of coloumns: 4\n"
          ]
        }
      ]
    },
    {
      "cell_type": "code",
      "metadata": {
        "colab": {
          "base_uri": "https://localhost:8080/"
        },
        "id": "t6TZV3qSADId",
        "outputId": "1bd6583c-4fb8-44a0-9f8d-02ead3a8e43f"
      },
      "source": [
        "tall=lambda X:X.shape[0]>X.shape[1]\n",
        "tall(A)"
      ],
      "execution_count": 9,
      "outputs": [
        {
          "output_type": "execute_result",
          "data": {
            "text/plain": [
              "False"
            ]
          },
          "metadata": {},
          "execution_count": 9
        }
      ]
    },
    {
      "cell_type": "code",
      "metadata": {
        "colab": {
          "base_uri": "https://localhost:8080/"
        },
        "id": "LxFxXjv2ALWF",
        "outputId": "cadede7f-69e7-4553-91a8-7b8a099d18bd"
      },
      "source": [
        "wide=lambda X: X.shape[0]<X.shape[1]\n",
        "wide(A)"
      ],
      "execution_count": 10,
      "outputs": [
        {
          "output_type": "execute_result",
          "data": {
            "text/plain": [
              "True"
            ]
          },
          "metadata": {},
          "execution_count": 10
        }
      ]
    },
    {
      "cell_type": "code",
      "metadata": {
        "colab": {
          "base_uri": "https://localhost:8080/"
        },
        "id": "_a-FetRyA0eo",
        "outputId": "e05eaa84-877b-4db3-8508-5c8de2f3dd81"
      },
      "source": [
        "A[0,2]"
      ],
      "execution_count": 11,
      "outputs": [
        {
          "output_type": "execute_result",
          "data": {
            "text/plain": [
              "-2.3"
            ]
          },
          "metadata": {},
          "execution_count": 11
        }
      ]
    },
    {
      "cell_type": "code",
      "metadata": {
        "colab": {
          "base_uri": "https://localhost:8080/"
        },
        "id": "ri4fXtFZA0lF",
        "outputId": "4fcf495d-c8a6-4572-9039-d13cd3dde486"
      },
      "source": [
        "A[0,2]=7.5\n",
        "A"
      ],
      "execution_count": 12,
      "outputs": [
        {
          "output_type": "execute_result",
          "data": {
            "text/plain": [
              "array([[ 0. ,  1. ,  7.5,  0.1],\n",
              "       [ 1.3,  4. , -0.1,  0. ],\n",
              "       [ 4.1, -1. ,  0. ,  1.7]])"
            ]
          },
          "metadata": {},
          "execution_count": 12
        }
      ]
    },
    {
      "cell_type": "code",
      "metadata": {
        "id": "S-8e0xpDBnND"
      },
      "source": [
        ""
      ],
      "execution_count": null,
      "outputs": []
    },
    {
      "cell_type": "code",
      "metadata": {
        "colab": {
          "base_uri": "https://localhost:8080/"
        },
        "id": "gavPTSO9BrmV",
        "outputId": "94d635aa-a7cc-4218-b23d-f48b745e155f"
      },
      "source": [
        "A = np.array([[0,1,-2.3,0.1], [1.3, 4, -0.1, 0], [4.1, -1.0, 0,1.7]])\n",
        "B=A.copy()\n",
        "print(A==B)\n",
        "print(np.sum(A==B))"
      ],
      "execution_count": 13,
      "outputs": [
        {
          "output_type": "stream",
          "name": "stdout",
          "text": [
            "[[ True  True  True  True]\n",
            " [ True  True  True  True]\n",
            " [ True  True  True  True]]\n",
            "12\n"
          ]
        }
      ]
    },
    {
      "cell_type": "code",
      "metadata": {
        "colab": {
          "base_uri": "https://localhost:8080/"
        },
        "id": "iPFIMUIRB2es",
        "outputId": "4c4dc0aa-7994-4877-fd86-c3fedeb7810d"
      },
      "source": [
        "B[0,3]=10\n",
        "print(A==B)\n",
        "print(np.sum(A==B))"
      ],
      "execution_count": 14,
      "outputs": [
        {
          "output_type": "stream",
          "name": "stdout",
          "text": [
            "[[ True  True  True False]\n",
            " [ True  True  True  True]\n",
            " [ True  True  True  True]]\n",
            "11\n"
          ]
        }
      ]
    },
    {
      "cell_type": "code",
      "metadata": {
        "colab": {
          "base_uri": "https://localhost:8080/"
        },
        "id": "yjx_RWwVDXX-",
        "outputId": "26f99bc6-b853-43ff-f899-fc11b0dfead1"
      },
      "source": [
        "A = np.array([[-1, 0, 1, 0],[2, -3, 0, 1],[0, 4, -2, 1]])\n",
        "A[0:2, 2:4]"
      ],
      "execution_count": 16,
      "outputs": [
        {
          "output_type": "execute_result",
          "data": {
            "text/plain": [
              "array([[1, 0],\n",
              "       [0, 1]])"
            ]
          },
          "metadata": {},
          "execution_count": 16
        }
      ]
    },
    {
      "cell_type": "code",
      "metadata": {
        "colab": {
          "base_uri": "https://localhost:8080/"
        },
        "id": "iNF1szeHDqBF",
        "outputId": "caa23db9-206c-4771-98bb-754f6463b462"
      },
      "source": [
        "A[0:3,2:3]"
      ],
      "execution_count": 20,
      "outputs": [
        {
          "output_type": "execute_result",
          "data": {
            "text/plain": [
              "array([[ 1],\n",
              "       [ 0],\n",
              "       [-2]])"
            ]
          },
          "metadata": {},
          "execution_count": 20
        }
      ]
    },
    {
      "cell_type": "code",
      "metadata": {
        "colab": {
          "base_uri": "https://localhost:8080/"
        },
        "id": "zd8bWs67EUu9",
        "outputId": "4d15dd8c-62be-4356-d251-ecf11ece0c4e"
      },
      "source": [
        "A[:,2]"
      ],
      "execution_count": 29,
      "outputs": [
        {
          "output_type": "execute_result",
          "data": {
            "text/plain": [
              "array([ 1,  0, -2])"
            ]
          },
          "metadata": {},
          "execution_count": 29
        }
      ]
    },
    {
      "cell_type": "code",
      "metadata": {
        "colab": {
          "base_uri": "https://localhost:8080/"
        },
        "id": "oCHvPa7hEhFT",
        "outputId": "a0c656fe-50b0-486b-917f-ea78553961b5"
      },
      "source": [
        "A[1,]"
      ],
      "execution_count": 27,
      "outputs": [
        {
          "output_type": "execute_result",
          "data": {
            "text/plain": [
              "array([ 2, -3,  0,  1])"
            ]
          },
          "metadata": {},
          "execution_count": 27
        }
      ]
    },
    {
      "cell_type": "code",
      "metadata": {
        "colab": {
          "base_uri": "https://localhost:8080/"
        },
        "id": "KJ248_0cFSYA",
        "outputId": "14ca024f-18fd-4124-c5ef-1b9f51d07396"
      },
      "source": [
        "A.reshape(2,6)"
      ],
      "execution_count": 30,
      "outputs": [
        {
          "output_type": "execute_result",
          "data": {
            "text/plain": [
              "array([[-1,  0,  1,  0,  2, -3],\n",
              "       [ 0,  1,  0,  4, -2,  1]])"
            ]
          },
          "metadata": {},
          "execution_count": 30
        }
      ]
    },
    {
      "cell_type": "code",
      "metadata": {
        "colab": {
          "base_uri": "https://localhost:8080/"
        },
        "id": "6RZHcBAzGDl6",
        "outputId": "ad78eb6e-67ca-42e6-bb38-68c89643cdb0"
      },
      "source": [
        "B = np.array([0,2,3]) \n",
        "C = np.array([-1]) \n",
        "D = np.array([[2,2,1],[1,3,5]]) \n",
        "E = np.array([[4],[4]])\n",
        "\n",
        "A=np.block([[B,C],[D,E]])\n",
        "A"
      ],
      "execution_count": 33,
      "outputs": [
        {
          "output_type": "execute_result",
          "data": {
            "text/plain": [
              "array([[ 0,  2,  3, -1],\n",
              "       [ 2,  2,  1,  4],\n",
              "       [ 1,  3,  5,  4]])"
            ]
          },
          "metadata": {},
          "execution_count": 33
        }
      ]
    },
    {
      "cell_type": "code",
      "metadata": {
        "colab": {
          "base_uri": "https://localhost:8080/"
        },
        "id": "4tsTuSIKHDDg",
        "outputId": "b5bda85e-01fb-48ed-d1c8-95f17f4b76b1"
      },
      "source": [
        "a = [1,2]\n",
        "b = [4,5]\n",
        "c = [7,8]\n",
        "A = np.vstack([a,b,c])\n",
        "B = np.hstack([a,b,c])\n",
        "print(A)\n",
        "print(B)"
      ],
      "execution_count": 36,
      "outputs": [
        {
          "output_type": "stream",
          "name": "stdout",
          "text": [
            "[[1 2]\n",
            " [4 5]\n",
            " [7 8]]\n",
            "[1 2 4 5 7 8]\n"
          ]
        }
      ]
    },
    {
      "cell_type": "code",
      "metadata": {
        "colab": {
          "base_uri": "https://localhost:8080/"
        },
        "id": "XnPElUjLHVqj",
        "outputId": "ca98da4a-5cf0-4be8-8cdb-a1df8c1d494b"
      },
      "source": [
        "a = [[1],[2]]\n",
        "b = [[4],[5]]\n",
        "c = [[7],[8]]\n",
        "A = np.vstack([a,b,c])\n",
        "B = np.hstack([a,b,c])\n",
        "print(A)\n",
        "print(B)"
      ],
      "execution_count": 37,
      "outputs": [
        {
          "output_type": "stream",
          "name": "stdout",
          "text": [
            "[[1]\n",
            " [2]\n",
            " [4]\n",
            " [5]\n",
            " [7]\n",
            " [8]]\n",
            "[[1 4 7]\n",
            " [2 5 8]]\n"
          ]
        }
      ]
    },
    {
      "cell_type": "code",
      "metadata": {
        "colab": {
          "base_uri": "https://localhost:8080/"
        },
        "id": "dvRf1lQfHi-i",
        "outputId": "96cf36b5-2c58-4f91-84c5-2bb1e0b020cf"
      },
      "source": [
        "np.zeros((4,3))"
      ],
      "execution_count": 39,
      "outputs": [
        {
          "output_type": "execute_result",
          "data": {
            "text/plain": [
              "array([[0., 0., 0.],\n",
              "       [0., 0., 0.],\n",
              "       [0., 0., 0.],\n",
              "       [0., 0., 0.]])"
            ]
          },
          "metadata": {},
          "execution_count": 39
        }
      ]
    },
    {
      "cell_type": "code",
      "metadata": {
        "colab": {
          "base_uri": "https://localhost:8080/"
        },
        "id": "oCmNppJhJIv0",
        "outputId": "0595749d-89e6-4fe4-e78d-f8ea8df686a0"
      },
      "source": [
        "np.ones((3,4))"
      ],
      "execution_count": 40,
      "outputs": [
        {
          "output_type": "execute_result",
          "data": {
            "text/plain": [
              "array([[1., 1., 1., 1.],\n",
              "       [1., 1., 1., 1.],\n",
              "       [1., 1., 1., 1.]])"
            ]
          },
          "metadata": {},
          "execution_count": 40
        }
      ]
    },
    {
      "cell_type": "code",
      "metadata": {
        "colab": {
          "base_uri": "https://localhost:8080/"
        },
        "id": "I3xVc9kEJLix",
        "outputId": "ca1647b0-a541-4f1b-adf2-18c1d9701c62"
      },
      "source": [
        "np.identity(4)"
      ],
      "execution_count": 41,
      "outputs": [
        {
          "output_type": "execute_result",
          "data": {
            "text/plain": [
              "array([[1., 0., 0., 0.],\n",
              "       [0., 1., 0., 0.],\n",
              "       [0., 0., 1., 0.],\n",
              "       [0., 0., 0., 1.]])"
            ]
          },
          "metadata": {},
          "execution_count": 41
        }
      ]
    },
    {
      "cell_type": "code",
      "metadata": {
        "colab": {
          "base_uri": "https://localhost:8080/"
        },
        "id": "QRIREZaFJOvy",
        "outputId": "b42450dd-af6c-4cd3-a74a-a9c69b65c340"
      },
      "source": [
        "x=np.array([[0,1,2],[3,4,5],[6,7,8]])\n",
        "v=np.diag(x)\n",
        "v"
      ],
      "execution_count": 42,
      "outputs": [
        {
          "output_type": "execute_result",
          "data": {
            "text/plain": [
              "array([0, 4, 8])"
            ]
          },
          "metadata": {},
          "execution_count": 42
        }
      ]
    },
    {
      "cell_type": "code",
      "metadata": {
        "colab": {
          "base_uri": "https://localhost:8080/"
        },
        "id": "WVLsVFVIJY9x",
        "outputId": "45dfc39a-a7d7-41be-ac1b-0401979a50e0"
      },
      "source": [
        "y=np.diag(v)\n",
        "y"
      ],
      "execution_count": 43,
      "outputs": [
        {
          "output_type": "execute_result",
          "data": {
            "text/plain": [
              "array([[0, 0, 0],\n",
              "       [0, 4, 0],\n",
              "       [0, 0, 8]])"
            ]
          },
          "metadata": {},
          "execution_count": 43
        }
      ]
    },
    {
      "cell_type": "code",
      "metadata": {
        "colab": {
          "base_uri": "https://localhost:8080/"
        },
        "id": "WGBLO8_GJkEu",
        "outputId": "507b93ca-9276-4050-ff68-49e77e1368b1"
      },
      "source": [
        "np.random.randn(3,4)"
      ],
      "execution_count": 48,
      "outputs": [
        {
          "output_type": "execute_result",
          "data": {
            "text/plain": [
              "array([[-0.40182923,  1.20657613,  0.84310435,  0.77348215],\n",
              "       [ 0.90249623,  0.52627663,  0.64655614, -1.12187061],\n",
              "       [ 0.12658205, -0.51798615, -0.25916296,  1.03941485]])"
            ]
          },
          "metadata": {},
          "execution_count": 48
        }
      ]
    },
    {
      "cell_type": "code",
      "metadata": {
        "colab": {
          "base_uri": "https://localhost:8080/"
        },
        "id": "WATGd7m6MCIj",
        "outputId": "7d5e73d2-dc33-4261-84cd-9a01b708cc59"
      },
      "source": [
        "H=np.array([[0,-1,-2,1],[2,-1,3,0]])\n",
        "H"
      ],
      "execution_count": 49,
      "outputs": [
        {
          "output_type": "execute_result",
          "data": {
            "text/plain": [
              "array([[ 0, -1, -2,  1],\n",
              "       [ 2, -1,  3,  0]])"
            ]
          },
          "metadata": {},
          "execution_count": 49
        }
      ]
    },
    {
      "cell_type": "code",
      "metadata": {
        "colab": {
          "base_uri": "https://localhost:8080/"
        },
        "id": "rFXxH_mRMOeV",
        "outputId": "6ce244fc-f3e1-4d44-83b9-f1317e09bf82"
      },
      "source": [
        "H.T"
      ],
      "execution_count": 50,
      "outputs": [
        {
          "output_type": "execute_result",
          "data": {
            "text/plain": [
              "array([[ 0,  2],\n",
              "       [-1, -1],\n",
              "       [-2,  3],\n",
              "       [ 1,  0]])"
            ]
          },
          "metadata": {},
          "execution_count": 50
        }
      ]
    },
    {
      "cell_type": "code",
      "metadata": {
        "colab": {
          "base_uri": "https://localhost:8080/"
        },
        "id": "kTsigIqWMQAa",
        "outputId": "0d28a5b9-09d5-4393-e9ad-a87bc2355387"
      },
      "source": [
        "np.transpose(H)"
      ],
      "execution_count": 51,
      "outputs": [
        {
          "output_type": "execute_result",
          "data": {
            "text/plain": [
              "array([[ 0,  2],\n",
              "       [-1, -1],\n",
              "       [-2,  3],\n",
              "       [ 1,  0]])"
            ]
          },
          "metadata": {},
          "execution_count": 51
        }
      ]
    },
    {
      "cell_type": "code",
      "metadata": {
        "colab": {
          "base_uri": "https://localhost:8080/"
        },
        "id": "90QOhoklMSt3",
        "outputId": "0d8e24af-cc14-448e-cfb5-38c57c2fa60c"
      },
      "source": [
        "U = np.array([[0,4], [7,0], [3,1]])\n",
        "V = np.array([[1,2], [2,3], [0,4]])\n",
        "U + V"
      ],
      "execution_count": 52,
      "outputs": [
        {
          "output_type": "execute_result",
          "data": {
            "text/plain": [
              "array([[1, 6],\n",
              "       [9, 3],\n",
              "       [3, 5]])"
            ]
          },
          "metadata": {},
          "execution_count": 52
        }
      ]
    },
    {
      "cell_type": "code",
      "metadata": {
        "colab": {
          "base_uri": "https://localhost:8080/"
        },
        "id": "S9g53PH-MaIa",
        "outputId": "9f11ddf6-5deb-49c9-fdf1-b4a5726f2ac0"
      },
      "source": [
        "2.2*U"
      ],
      "execution_count": 53,
      "outputs": [
        {
          "output_type": "execute_result",
          "data": {
            "text/plain": [
              "array([[ 0. ,  8.8],\n",
              "       [15.4,  0. ],\n",
              "       [ 6.6,  2.2]])"
            ]
          },
          "metadata": {},
          "execution_count": 53
        }
      ]
    },
    {
      "cell_type": "code",
      "metadata": {
        "colab": {
          "base_uri": "https://localhost:8080/"
        },
        "id": "24xY40RtMdBx",
        "outputId": "c9f6eb64-8cb4-445e-e317-526514ed4c44"
      },
      "source": [
        "A = np.array([[2,3,-1], [0,-1,4]])\n",
        "np.linalg.norm(A)"
      ],
      "execution_count": 54,
      "outputs": [
        {
          "output_type": "execute_result",
          "data": {
            "text/plain": [
              "5.5677643628300215"
            ]
          },
          "metadata": {},
          "execution_count": 54
        }
      ]
    },
    {
      "cell_type": "code",
      "metadata": {
        "colab": {
          "base_uri": "https://localhost:8080/"
        },
        "id": "swdpzaBQMzgg",
        "outputId": "8987c395-589d-47ed-baca-61e7d7b93f29"
      },
      "source": [
        "A = np.array([[0,2,-1],[-2,1,1]])\n",
        "x = np.array([2,1,-1])\n",
        "A @ x"
      ],
      "execution_count": 55,
      "outputs": [
        {
          "output_type": "execute_result",
          "data": {
            "text/plain": [
              "array([ 3, -4])"
            ]
          },
          "metadata": {},
          "execution_count": 55
        }
      ]
    },
    {
      "cell_type": "code",
      "metadata": {
        "colab": {
          "base_uri": "https://localhost:8080/"
        },
        "id": "B3AmiFN_NgJF",
        "outputId": "bed470de-801c-45ed-9be7-1cac7883b58a"
      },
      "source": [
        "Rot = lambda theta: [[np.cos(theta), -np.sin(theta)],[np.sin(theta), np.cos(theta)]]\n",
        "R = Rot(np.pi/3)\n",
        "R"
      ],
      "execution_count": 59,
      "outputs": [
        {
          "output_type": "execute_result",
          "data": {
            "text/plain": [
              "[[0.5000000000000001, -0.8660254037844386],\n",
              " [0.8660254037844386, 0.5000000000000001]]"
            ]
          },
          "metadata": {},
          "execution_count": 59
        }
      ]
    },
    {
      "cell_type": "code",
      "metadata": {
        "id": "z9d4k1CrNjY_"
      },
      "source": [
        "points =np.array([[1,0],[1.5,0],[2,0],[1,0.25],[1.5,0.25],[1,0.5]])\n",
        "rpoints = np.array([R @ p for p in points])\n"
      ],
      "execution_count": 61,
      "outputs": []
    },
    {
      "cell_type": "code",
      "metadata": {
        "colab": {
          "base_uri": "https://localhost:8080/"
        },
        "id": "0_QLGTtEORo3",
        "outputId": "0d863e1d-8103-4c14-e2ac-9d12d253cf75"
      },
      "source": [
        "print(points)\n",
        "print(rpoints)"
      ],
      "execution_count": 63,
      "outputs": [
        {
          "output_type": "stream",
          "name": "stdout",
          "text": [
            "[[1.   0.  ]\n",
            " [1.5  0.  ]\n",
            " [2.   0.  ]\n",
            " [1.   0.25]\n",
            " [1.5  0.25]\n",
            " [1.   0.5 ]]\n",
            "[[0.5        0.8660254 ]\n",
            " [0.75       1.29903811]\n",
            " [1.         1.73205081]\n",
            " [0.28349365 0.9910254 ]\n",
            " [0.53349365 1.42403811]\n",
            " [0.0669873  1.1160254 ]]\n"
          ]
        }
      ]
    },
    {
      "cell_type": "code",
      "metadata": {
        "colab": {
          "base_uri": "https://localhost:8080/",
          "height": 265
        },
        "id": "G4fFXqkyOVIn",
        "outputId": "bd8170b2-ec64-4788-8e34-84c346a7b22a"
      },
      "source": [
        "import matplotlib.pyplot as plt\n",
        "plt.ion()\n",
        "plt.scatter([c[0] for c in points], [c[1] for c in points])\n",
        "plt.scatter([c[0] for c in rpoints],[c[1] for c in rpoints])\n",
        "plt.show()"
      ],
      "execution_count": 62,
      "outputs": [
        {
          "output_type": "display_data",
          "data": {
            "image/png": "[encoded data removed]",
            "text/plain": [
              "<Figure size 432x288 with 1 Axes>"
            ]
          },
          "metadata": {
            "needs_background": "light"
          }
        }
      ]
    }
  ]
}